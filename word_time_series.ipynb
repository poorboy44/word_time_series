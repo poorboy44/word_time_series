{
 "cells": [
  {
   "cell_type": "code",
   "execution_count": 1,
   "metadata": {
    "collapsed": false
   },
   "outputs": [
    {
     "name": "stdout",
     "output_type": "stream",
     "text": [
      "read in 175 stopwords\n",
      "['x', 'i', 'me', 'my', 'myself', 'we', 'our', 'ours', 'ourselves', 'you', 'your', 'yours', 'yourself', 'yourselves', 'he', 'him', 'his', 'himself', 'she', 'her', 'hers', 'herself', 'it', 'its', 'itself', 'they', 'them', 'their', 'theirs', 'themselves', 'what', 'which', 'who', 'whom', 'this', 'that', 'these', 'those', 'am', 'is', 'are', 'was', 'were', 'be', 'been', 'being', 'have', 'has', 'had', 'having', 'do', 'does', 'did', 'doing', 'would', 'should', 'could', 'ought', \"i'm\", \"you're\", \"he's\", \"she's\", \"it's\", \"we're\", \"they're\", \"i've\", \"you've\", \"we've\", \"they've\", \"i'd\", \"you'd\", \"he'd\", \"she'd\", \"we'd\", \"they'd\", \"i'll\", \"you'll\", \"he'll\", \"she'll\", \"we'll\", \"they'll\", \"isn't\", \"aren't\", \"wasn't\", \"weren't\", \"hasn't\", \"haven't\", \"hadn't\", \"doesn't\", \"don't\", \"didn't\", \"won't\", \"wouldn't\", \"shan't\", \"shouldn't\", \"can't\", 'cannot', \"couldn't\", \"mustn't\", \"let's\", \"that's\", \"who's\", \"what's\", \"here's\", \"there's\", \"when's\", \"where's\", \"why's\", \"how's\", 'a', 'an', 'the', 'and', 'but', 'if', 'or', 'because', 'as', 'until', 'while', 'of', 'at', 'by', 'for', 'with', 'about', 'against', 'between', 'into', 'through', 'during', 'before', 'after', 'above', 'below', 'to', 'from', 'up', 'down', 'in', 'out', 'on', 'off', 'over', 'under', 'again', 'further', 'then', 'once', 'here', 'there', 'when', 'where', 'why', 'how', 'all', 'any', 'both', 'each', 'few', 'more', 'most', 'other', 'some', 'such', 'no', 'nor', 'not', 'only', 'own', 'same', 'so', 'than', 'too', 'very']\n"
     ]
    }
   ],
   "source": [
    "\"\"\"\n",
    "This notebook takes in ngram time series data produced from a MR job\n",
    "The assumed format is:\n",
    "\n",
    "2\t(2013-01-01 ,#dead)\n",
    "\n",
    "ie.. word \\t (date, term)\n",
    "\n",
    "We parse this data and fit a linear trend model to each term\n",
    "Through clever use of interaction terms in statsmodels we can do this in 1 shot\n",
    "\n",
    "\"\"\"\n",
    "%matplotlib inline\n",
    "\n",
    "import matplotlib\n",
    "import numpy as np\n",
    "import matplotlib.pyplot as plt\n",
    "import pandas as pd\n",
    "\n",
    "import gzip\n",
    "import string\n",
    "import re\n",
    "from time import time\n",
    "import os.path\n",
    "from datetime import datetime\n",
    "\n",
    "##read in stopwrods file\n",
    "stopwords=[]\n",
    "with open('stopwords.txt', 'r') as stop_fn:\n",
    "    for line in stop_fn:\n",
    "       stopwords.append(line.strip().replace('\"', '')) \n",
    "print(\"read in {} stopwords\".format(len(stopwords)))\n",
    "print(stopwords)"
   ]
  },
  {
   "cell_type": "code",
   "execution_count": 2,
   "metadata": {
    "collapsed": false
   },
   "outputs": [
    {
     "name": "stdout",
     "output_type": "stream",
     "text": [
      "time to run test data:2.84829654694 minutes\n",
      "estimated time to run total:42898.1942934 minutes\n"
     ]
    }
   ],
   "source": [
    "t0=time()\n",
    "line_num=0\n",
    "data_for_df=[]\n",
    "with open('/mnt/snelson/word_time_series/unzipped_word_time_series.txt', 'r') as f:\n",
    "    for line in f:\n",
    "        line_num+=1\n",
    "        try:\n",
    "            num_test_recs=1000\n",
    "            #if line_num>num_test_recs:\n",
    "            #    break\n",
    "            data=line.split('\\t')\n",
    "            count=data[0]\n",
    "            mytuple=[x.translate(None, \")(\").strip() for x in re.split(',', data[1], maxsplit=1)]\n",
    "            dt, term=mytuple\n",
    "            dt=dt.strip()\n",
    "            term=term.strip()\n",
    "            count=int(count)\n",
    "            ## check if date is correct\n",
    "            pattern=re.compile('20[0-9]{2}-[0-9]{2}-[0-9]{2}')\n",
    "            if term not in stopwords and len(mytuple)==2 and len(dt)==10 and pattern.search(dt):\n",
    "                dt_list = dt.split(\"-\")\n",
    "                guess_date = int(int(dt_list[1])-1)*31 + int(dt_list[2])\n",
    "                #dt_days=(datetime.strptime(dt, '%Y-%m-%d') - datetime.strptime('2013-01-01', '%Y-%m-%d')).days\n",
    "                data_for_df.append([guess_date, term, count])\n",
    "        except:\n",
    "            print(\"error on line {}: {}\".format(line_num, line))\n",
    "            continue\n",
    "\n",
    "#pickle data for later use\n",
    "#df.to_pickle('df.pkl')\n",
    "t1=time()\n",
    "tot=(t1-t0)/60\n",
    "print(\"time to run test data:{} minutes\".format(tot))\n",
    "print(\"estimated time to run total:{} minutes\".format(tot*(15061489/num_test_recs) ))"
   ]
  },
  {
   "cell_type": "code",
   "execution_count": 3,
   "metadata": {
    "collapsed": false
   },
   "outputs": [
    {
     "name": "stdout",
     "output_type": "stream",
     "text": [
      "           dt                      term  count\n",
      "0           1                \"addition\"      1\n",
      "1           1             \"addition\" in      1\n",
      "2           1         \"addition\" in the      1\n",
      "3           1                 \"bedford\"      1\n",
      "4           1             \"bedford\" wtf      1\n",
      "5           1          \"bedford\" wtf is      1\n",
      "6           1                    \"beer\"      2\n",
      "7           1                   \"drunk\"      1\n",
      "8           1              \"drunk\" they      1\n",
      "9           1          \"drunk\" they are      1\n",
      "10          1               \"ennn-ybody      1\n",
      "11          1           \"ennn-ybody can      1\n",
      "12          1       \"ennn-ybody can see      1\n",
      "13          1                    \"face\"      1\n",
      "14          1                 \"face\" on      1\n",
      "15          1             \"face\" on abc      1\n",
      "16          1                   \"house\"      1\n",
      "17          1              \"house\" sets      1\n",
      "18          1           \"house\" sets up      1\n",
      "19          1                \"most-used      1\n",
      "20          1        \"most-used hipster      1\n",
      "21          1  \"most-used hipster terms      1\n",
      "22          1             \"responsibly\"      1\n",
      "23          1              \"shakesbeer\"      1\n",
      "24          1             \"shakespeare\"      1\n",
      "25          1           \"shakespeare\" -      1\n",
      "26          1     \"shakespeare\" - after      1\n",
      "27          1                   \"there\"      1\n",
      "28          1                \"there\" in      1\n",
      "29          1           \"there\" in that      1\n",
      "...       ...                       ...    ...\n",
      "15003890  372                       yur      1\n",
      "15003891  372                   yur lum      1\n",
      "15003892  372              yur lum reek      1\n",
      "15003893  372                         z      1\n",
      "15003894  372                        za      1\n",
      "15003895  372                  zarinfar      1\n",
      "15003896  372              zarinfar has      1\n",
      "15003897  372       zarinfar has become      1\n",
      "15003898  372                   zealand      2\n",
      "15003899  372                 zealand -      1\n",
      "15003900  372                    zeppes      1\n",
      "15003901  372              zeppes doing      1\n",
      "15003902  372           zeppes doing $1      1\n",
      "15003903  372                      zero      1\n",
      "15003904  372                zero plans      1\n",
      "15003905  372            zero plans for      1\n",
      "15003906  372                   zevia's      1\n",
      "15003907  372           zevia's natural      1\n",
      "15003908  372      zevia's natural root      1\n",
      "15003909  372                       zfa      1\n",
      "15003910  372                      zone      1\n",
      "15003911  372                      zouk      1\n",
      "15003912  372               zouk staffs      1\n",
      "15003913  372                       zzz      2\n",
      "15003914  372                   zzz zzz      1\n",
      "15003915  372              zzz zzz zzzy      1\n",
      "15003916  372                  zzz zzzy      1\n",
      "15003917  372          zzz zzzy tonight      1\n",
      "15003918  372                      zzzy      1\n",
      "15003919  372              zzzy tonight      1\n",
      "\n",
      "[15003920 rows x 3 columns]\n"
     ]
    }
   ],
   "source": [
    "## convert lsit of lists to a df\n",
    "df=pd.DataFrame(data_for_df, columns=['dt', 'term', 'count'])\n",
    "#df.dt=pd.to_datetime(df.dt, format='%Y-%m-%d')\n",
    "df=df.drop_duplicates()\n",
    "df=df.groupby(['dt', 'term'])['count'].sum().reset_index()\n",
    "print(df)"
   ]
  },
  {
   "cell_type": "code",
   "execution_count": 4,
   "metadata": {
    "collapsed": true
   },
   "outputs": [],
   "source": [
    "#pickle data for later use\n",
    "#df.to_pickle('df.pkl')"
   ]
  },
  {
   "cell_type": "code",
   "execution_count": 5,
   "metadata": {
    "collapsed": false
   },
   "outputs": [
    {
     "name": "stdout",
     "output_type": "stream",
     "text": [
      "Index([u'dt', u'term', u'count'], dtype='object')\n",
      "   dt               term  count\n",
      "0   1         \"addition\"      1\n",
      "1   1      \"addition\" in      1\n",
      "2   1  \"addition\" in the      1\n",
      "3   1          \"bedford\"      1\n",
      "4   1      \"bedford\" wtf      1\n",
      "(15003920, 3)\n",
      "dt        int64\n",
      "term     object\n",
      "count     int64\n",
      "dtype: object\n"
     ]
    }
   ],
   "source": [
    "## formatting\n",
    "print(df.columns)\n",
    "print(df.head(n=5))\n",
    "print(df.shape)\n",
    "print(df.dtypes)"
   ]
  },
  {
   "cell_type": "code",
   "execution_count": 6,
   "metadata": {
    "collapsed": false
   },
   "outputs": [
    {
     "name": "stdout",
     "output_type": "stream",
     "text": [
      "['\"addition\"' '\"addition\" in' '\"addition\" in the' ..., 'zzz zzzy tonight'\n",
      " 'zzzy' 'zzzy tonight']\n",
      "5895375\n"
     ]
    }
   ],
   "source": [
    "#number of unique terms in the data\n",
    "unique_terms=df.term.unique()\n",
    "print(unique_terms)\n",
    "print(len(unique_terms))\n"
   ]
  },
  {
   "cell_type": "code",
   "execution_count": 7,
   "metadata": {
    "collapsed": false
   },
   "outputs": [
    {
     "name": "stdout",
     "output_type": "stream",
     "text": [
      "3876\n",
      "term\n",
      "\"beer\"                588\n",
      "#acbw                 769\n",
      "#beer               36294\n",
      "#beer #cheers         601\n",
      "#beer #craftbeer      679\n",
      "#cheers              1248\n",
      "#craftbeer           4858\n",
      "#craftbeer #beer      595\n",
      "#drunk                521\n",
      "#food                 794\n",
      "#friends              611\n",
      "#goodtimes            558\n",
      "#homebrew             545\n",
      "#merica               574\n",
      "#microbrew            556\n",
      "#party                534\n",
      "#photo                698\n",
      "#summer               716\n",
      "#sun                  543\n",
      "#wine                 987\n",
      "#winning              577\n",
      "#yelp                 575\n",
      "$1                   1327\n",
      "$10                   859\n",
      "$2                   1359\n",
      "$3                   1186\n",
      "$4                    750\n",
      "$5                   1602\n",
      "&                   73354\n",
      "&amp                49172\n",
      "                    ...  \n",
      "you need             2198\n",
      "you need a            503\n",
      "you need to           657\n",
      "you on                530\n",
      "you say               777\n",
      "you see               581\n",
      "you should           1673\n",
      "you think             982\n",
      "you to               1376\n",
      "you wanna             512\n",
      "you want             2437\n",
      "you want to           747\n",
      "you were             1476\n",
      "you will              807\n",
      "you're a              634\n",
      "you're in             887\n",
      "you're not            554\n",
      "young                1012\n",
      "your beer            7195\n",
      "your beer in          551\n",
      "your favorite        1047\n",
      "your hand             501\n",
      "your life             622\n",
      "your name             666\n",
      "your name on          550\n",
      "your own             1103\n",
      "your own beer         545\n",
      "yum                   752\n",
      "yummy                 682\n",
      "yup                   759\n",
      "Name: count, dtype: int64\n",
      "['\"beer\"' '#acbw' '#beer' '#beer #cheers' '#beer #craftbeer']\n"
     ]
    }
   ],
   "source": [
    "# terms with more than 500 mentions\n",
    "term_count=df.groupby(['term'])['count'].sum()\n",
    "print(len(term_count[term_count>500]))\n",
    "print(term_count[term_count>500])\n",
    "print(term_count[term_count>500].index[:5].values)"
   ]
  },
  {
   "cell_type": "code",
   "execution_count": 8,
   "metadata": {
    "collapsed": false
   },
   "outputs": [
    {
     "name": "stdout",
     "output_type": "stream",
     "text": [
      "1244866\n",
      "3876\n"
     ]
    }
   ],
   "source": [
    "## filter down data set to only include terms with more than 500 mentions -- ~4000 unique terms\n",
    "## 1.3M rows of data\n",
    "df2=df[df.term.isin(term_count[term_count>500].index.values)]\n",
    "print(len(df2))\n",
    "print(len(df2.term.unique()))\n"
   ]
  },
  {
   "cell_type": "code",
   "execution_count": 9,
   "metadata": {
    "collapsed": false
   },
   "outputs": [
    {
     "name": "stdout",
     "output_type": "stream",
     "text": [
      "term\n",
      "i drink                    365\n",
      "store                      365\n",
      "drinking                   365\n",
      "sitting                    365\n",
      "having a                   365\n",
      "drinking a                 365\n",
      "drinking a beer            365\n",
      "sit                        365\n",
      "is a                       365\n",
      "drinking beer              365\n",
      "have to                    365\n",
      "drinks                     365\n",
      "since                      365\n",
      "show                       365\n",
      "drunk                      365\n",
      "beer of                    365\n",
      "shot                       365\n",
      "is beer                    365\n",
      "be a                       365\n",
      "early                      365\n",
      "shit                       365\n",
      "set                        365\n",
      "eat                        365\n",
      "eating                     365\n",
      "beer belly                 365\n",
      "sleep                      365\n",
      "having a beer              365\n",
      "so i                       365\n",
      "sorry                      365\n",
      "still                      365\n",
      "                          ... \n",
      "april                      163\n",
      "the sunset                 162\n",
      "the garden                 161\n",
      "garden with                160\n",
      "august                     159\n",
      "@uberfacts                 158\n",
      "edge of                    155\n",
      "on the edge                148\n",
      "the edge of                145\n",
      "xmas                       140\n",
      "fireworks                  135\n",
      "american craft             135\n",
      "in the garden              133\n",
      "watch the sunset           129\n",
      "edge of this               122\n",
      "american craft beer        118\n",
      "national beer              110\n",
      "beer month                 106\n",
      "super bowl                  95\n",
      "patrick's                   88\n",
      "new year                    87\n",
      "- drinking                  85\n",
      "thanksgiving                78\n",
      "patrick's day               76\n",
      "- drinking a                65\n",
      "national beer day           33\n",
      "#acbw                       18\n",
      "earned the 'beer-giving      3\n",
      "'beer-giving                 3\n",
      "the 'beer-giving             3\n",
      "dtype: int64\n"
     ]
    }
   ],
   "source": [
    "## filter to terms with more than 30 days of data\n",
    "## would be nice if this was consecutive days \n",
    "num_days_by_term=df2.groupby(['term']).size()\n",
    "num_days_by_term.sort(ascending=False)\n",
    "print(num_days_by_term)\n",
    "\n"
   ]
  },
  {
   "cell_type": "code",
   "execution_count": 10,
   "metadata": {
    "collapsed": false
   },
   "outputs": [
    {
     "name": "stdout",
     "output_type": "stream",
     "text": [
      "(365, 3)\n",
      "           dt     term  count\n",
      "24647       1  i drink     12\n",
      "67952       2  i drink      2\n",
      "101922      3  i drink      9\n",
      "139638      4  i drink      5\n",
      "180796      5  i drink      7\n",
      "221629      6  i drink      6\n",
      "260258      7  i drink      3\n",
      "296378      8  i drink     16\n",
      "332013      9  i drink      5\n",
      "367903     10  i drink      8\n",
      "407308     11  i drink      7\n",
      "450500     12  i drink     13\n",
      "493142     13  i drink     12\n",
      "531231     14  i drink      5\n",
      "564722     15  i drink      6\n",
      "599384     16  i drink      8\n",
      "635939     17  i drink      9\n",
      "676836     18  i drink      7\n",
      "720883     19  i drink     12\n",
      "765632     20  i drink      6\n",
      "805683     21  i drink      9\n",
      "839572     22  i drink      4\n",
      "874078     23  i drink      5\n",
      "911677     24  i drink      6\n",
      "953600     25  i drink      7\n",
      "999403     26  i drink     15\n",
      "1042637    27  i drink      9\n",
      "1079774    28  i drink      1\n",
      "1114548    29  i drink      4\n",
      "1152142    30  i drink      5\n",
      "...       ...      ...    ...\n",
      "13992092  343  i drink      3\n",
      "14020974  344  i drink      5\n",
      "14052419  345  i drink      5\n",
      "14085589  346  i drink      7\n",
      "14120799  347  i drink      9\n",
      "14157397  348  i drink      5\n",
      "14192392  349  i drink      8\n",
      "14224335  350  i drink      5\n",
      "14255153  351  i drink      8\n",
      "14287119  352  i drink      4\n",
      "14318711  353  i drink      7\n",
      "14352419  354  i drink      7\n",
      "14388561  355  i drink      7\n",
      "14423451  356  i drink      8\n",
      "14455265  357  i drink      4\n",
      "14486051  358  i drink      8\n",
      "14518565  359  i drink      8\n",
      "14552724  360  i drink      8\n",
      "14587252  361  i drink      5\n",
      "14622850  362  i drink      9\n",
      "14658050  363  i drink     14\n",
      "14693739  364  i drink     11\n",
      "14731174  365  i drink      5\n",
      "14772467  366  i drink     15\n",
      "14809313  367  i drink     10\n",
      "14841552  368  i drink      6\n",
      "14874198  369  i drink      6\n",
      "14908668  370  i drink      5\n",
      "14942188  371  i drink      7\n",
      "14980645  372  i drink      9\n",
      "\n",
      "[365 rows x 3 columns]\n"
     ]
    }
   ],
   "source": [
    "## run regression on top 100 terms due to memory issues\n",
    "df3=df2[df2.term.isin(num_days_by_term[:1].index.values)]\n",
    "print(df3.shape)\n",
    "print df3\n"
   ]
  },
  {
   "cell_type": "code",
   "execution_count": 11,
   "metadata": {
    "collapsed": false
   },
   "outputs": [
    {
     "data": {
      "text/plain": [
       "'i drink'"
      ]
     },
     "execution_count": 11,
     "metadata": {},
     "output_type": "execute_result"
    }
   ],
   "source": [
    "num_days_by_term.index[0]"
   ]
  },
  {
   "cell_type": "code",
   "execution_count": 12,
   "metadata": {
    "collapsed": false
   },
   "outputs": [
    {
     "name": "stdout",
     "output_type": "stream",
     "text": [
      "running time:394.87985301\n"
     ]
    }
   ],
   "source": [
    "## fit *ALL* models at once  using interaction terms\n",
    "import statsmodels.api as sm\n",
    "import statsmodels.formula.api as smf\n",
    "t0=time()\n",
    "results={}\n",
    "for i in range(len(num_days_by_term.index)):\n",
    "    df3=df2[df2.term==num_days_by_term.index[i]]\n",
    "    results[i] = smf.ols(formula='count ~ C(term) + C(term)*dt', data=df3).fit()\n",
    "t1=time()\n",
    "print(\"running time:{}\".format(t1-t0))\n",
    "#print(\"estimated total running time:{} minutes\".format((t1-t0)/60*4000))\n",
    "#print(est.summary())"
   ]
  },
  {
   "cell_type": "code",
   "execution_count": 13,
   "metadata": {
    "collapsed": false
   },
   "outputs": [
    {
     "name": "stdout",
     "output_type": "stream",
     "text": [
      "                         term       coef\n",
      "3875         the 'beer-giving  67.000000\n",
      "3874             'beer-giving  67.000000\n",
      "3873  earned the 'beer-giving  67.000000\n",
      "3872                    #acbw   0.380073\n",
      "3712                christmas   0.083002\n",
      "3868             thanksgiving   0.042730\n",
      "3867               - drinking   0.041330\n",
      "3802                  pumpkin   0.040616\n",
      "712                  football   0.036343\n",
      "47               drink a beer   0.032053\n",
      "3870             - drinking a   0.030744\n",
      "45                    drink a   0.030560\n",
      "3832              oktoberfest   0.024897\n",
      "3855                     xmas   0.024108\n",
      "3859         watch the sunset   0.024059\n",
      "3860             edge of this   0.023563\n",
      "3854              the edge of   0.021857\n",
      "3852                  edge of   0.020503\n",
      "3853              on the edge   0.020458\n",
      "3840            official beer   0.020133\n",
      "3847               the sunset   0.019997\n",
      "2344               right here   0.019849\n",
      "3842             pumpkin beer   0.019396\n",
      "3792                sit right   0.019357\n",
      "3833                 the edge   0.019155\n",
      "3794           sit right here   0.019050\n",
      "3839                disappear   0.017362\n",
      "3831                    santa   0.017330\n",
      "3781                     edge   0.017058\n",
      "3822                   #photo   0.016980\n",
      "...                       ...        ...\n",
      "513                         :  -0.053739\n",
      "181                    in the  -0.053953\n",
      "364                  and beer  -0.054549\n",
      "374                       now  -0.054817\n",
      "273                       got  -0.055188\n",
      "453                       can  -0.057785\n",
      "393                   of beer  -0.058127\n",
      "485                      &amp  -0.061009\n",
      "347                       amp  -0.061900\n",
      "118                      cold  -0.062536\n",
      "205                  the beer  -0.065460\n",
      "239                        gt  -0.067227\n",
      "489                       &gt  -0.067247\n",
      "1050                    green  -0.067510\n",
      "274                       lol  -0.070982\n",
      "258                       get  -0.071212\n",
      "164                 beer pong  -0.071408\n",
      "566                     #beer  -0.072776\n",
      "346                      pong  -0.072939\n",
      "323                      just  -0.076034\n",
      "3834               green beer  -0.076658\n",
      "445                  beer and  -0.077520\n",
      "280                      good  -0.088438\n",
      "282                      like  -0.099407\n",
      "197                       day  -0.105312\n",
      "98                         rt  -0.107055\n",
      "3871        national beer day  -0.162683\n",
      "563                    a beer  -0.167471\n",
      "484                         &  -0.178776\n",
      "134                      beer  -1.278770\n",
      "\n",
      "[3876 rows x 2 columns]\n"
     ]
    }
   ],
   "source": [
    "## parse out results\n",
    "a=[results[i].params['dt'] for i in results]\n",
    "b=num_days_by_term.index.values\n",
    "c=pd.DataFrame(zip(b,a), columns=['term', 'coef'])\n",
    "c=c.sort(['coef'], ascending=False)\n",
    "print(c)"
   ]
  },
  {
   "cell_type": "code",
   "execution_count": 14,
   "metadata": {
    "collapsed": false
   },
   "outputs": [],
   "source": [
    "#test plot\n",
    "from matplotlib.backends.backend_pdf import PdfPages\n",
    "def plotit(i, term):\n",
    "    test=df2[df2.term==term]\n",
    "    test1=pd.Series(data=test['count'].values, index=test['dt'])\n",
    "    #test1.plot(title=term)\n",
    "    plt.figure(); ax=test1.plot(title=term);\n",
    "    ax.set_xlabel(\"day\")\n",
    "    ax.set_ylabel(\"count/day\")\n",
    "    pdf.savefig()\n",
    "    #plt.savefig('./figs/{}.pdf'.format(i))\n",
    "    plt.close()\n",
    "with PdfPages('multipage_pdf.pdf') as pdf:\n",
    "    for i, term in enumerate(c.term.values[:200]):\n",
    "        plotit(i, term)"
   ]
  },
  {
   "cell_type": "code",
   "execution_count": null,
   "metadata": {
    "collapsed": false
   },
   "outputs": [],
   "source": []
  },
  {
   "cell_type": "code",
   "execution_count": null,
   "metadata": {
    "collapsed": true
   },
   "outputs": [],
   "source": []
  },
  {
   "cell_type": "code",
   "execution_count": null,
   "metadata": {
    "collapsed": true
   },
   "outputs": [],
   "source": []
  },
  {
   "cell_type": "code",
   "execution_count": null,
   "metadata": {
    "collapsed": false
   },
   "outputs": [],
   "source": [
    "\n"
   ]
  },
  {
   "cell_type": "code",
   "execution_count": null,
   "metadata": {
    "collapsed": true
   },
   "outputs": [],
   "source": []
  }
 ],
 "metadata": {
  "kernelspec": {
   "display_name": "Python 2",
   "language": "python",
   "name": "python2"
  },
  "language_info": {
   "codemirror_mode": {
    "name": "ipython",
    "version": 2
   },
   "file_extension": ".py",
   "mimetype": "text/x-python",
   "name": "python",
   "nbconvert_exporter": "python",
   "pygments_lexer": "ipython2",
   "version": "2.7.3"
  }
 },
 "nbformat": 4,
 "nbformat_minor": 0
}
