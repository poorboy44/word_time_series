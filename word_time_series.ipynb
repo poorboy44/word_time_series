{
 "cells": [
  {
   "cell_type": "code",
   "execution_count": 1,
   "metadata": {
    "collapsed": false
   },
   "outputs": [
    {
     "name": "stdout",
     "output_type": "stream",
     "text": [
      "estimated time to run total:15.0178422928 minutes\n"
     ]
    }
   ],
   "source": [
    "\"\"\"\n",
    "This notebook takes in ngram time series data produced from a MR job\n",
    "The assumed format is:\n",
    "\n",
    "2\t(2013-01-01 ,#dead)\n",
    "\n",
    "ie.. word \\t (date, term)\n",
    "\n",
    "We parse this data and fit a linear trend model to each term\n",
    "Through clever use of interaction terms in statsmodels we can do this in 1 shot\n",
    "\n",
    "\"\"\"\n",
    "import gzip\n",
    "import pandas as pd\n",
    "import string\n",
    "import re\n",
    "from time import time\n",
    "\n",
    "\n",
    "##read in data from the MapReduce job -- need to parse it =(\n",
    "t0=time()\n",
    "line_num=0\n",
    "df=pd.DataFrame()\n",
    "with gzip.open('word_time_series.txt.gz', 'r') as f:\n",
    "    for line in f:\n",
    "        line_num+=1\n",
    "        try:\n",
    "#            if line_num>1000:\n",
    "#                break\n",
    "            data=line.split('\\t')\n",
    "            count=data[0]\n",
    "            mytuple=[x.translate(None, \")(\").strip() for x in re.split(',', data[1], maxsplit=1)]\n",
    "            dt, term=mytuple\n",
    "            #df=df.append({'dt':dt.strip(), 'term':term.strip(), 'count':int(count)}, ignore_index=True)\n",
    "            df=df.append([[dt.strip(), term.strip(), int(count)]], ignore_index=True)\n",
    "        except:\n",
    "            print(\"error on line {}: {}\".format(line_num, line))\n",
    "            continue\n",
    "            \n",
    "t1=time()\n",
    "tot=(t1-t0)*(465738/1000) / 60\n",
    "print(\"estimated time to run total:{} minutes\".format(tot))"
   ]
  },
  {
   "cell_type": "code",
   "execution_count": null,
   "metadata": {
    "collapsed": false
   },
   "outputs": [],
   "source": [
    "## formatting\n",
    "df.columns=['dt', 'term', 'count']\n",
    "df=df.sort(['dt', 'term'])\n",
    "print(df.columns)\n",
    "print(df.head(n=5))\n",
    "print(df.shape)"
   ]
  },
  {
   "cell_type": "code",
   "execution_count": null,
   "metadata": {
    "collapsed": false
   },
   "outputs": [],
   "source": [
    "## fit *ALL* models at once  using interaction terms\n",
    "import statsmodels.api as sm\n",
    "import statsmodels.formula.api as smf\n",
    "est = smf.ols(formula='count ~ C(term) + C(term)*dt', data=df).fit()\n",
    "short_summary(est)"
   ]
  },
  {
   "cell_type": "code",
   "execution_count": null,
   "metadata": {
    "collapsed": false
   },
   "outputs": [],
   "source": []
  },
  {
   "cell_type": "code",
   "execution_count": null,
   "metadata": {
    "collapsed": false
   },
   "outputs": [],
   "source": [
    "\n"
   ]
  },
  {
   "cell_type": "code",
   "execution_count": null,
   "metadata": {
    "collapsed": true
   },
   "outputs": [],
   "source": []
  }
 ],
 "metadata": {
  "kernelspec": {
   "display_name": "Python 2",
   "language": "python",
   "name": "python2"
  },
  "language_info": {
   "codemirror_mode": {
    "name": "ipython",
    "version": 2
   },
   "file_extension": ".py",
   "mimetype": "text/x-python",
   "name": "python",
   "nbconvert_exporter": "python",
   "pygments_lexer": "ipython2",
   "version": "2.7.3"
  }
 },
 "nbformat": 4,
 "nbformat_minor": 0
}
