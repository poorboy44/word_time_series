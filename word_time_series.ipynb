{
 "cells": [
  {
   "cell_type": "code",
   "execution_count": 2,
   "metadata": {
    "collapsed": false
   },
   "outputs": [
    {
     "name": "stdout",
     "output_type": "stream",
     "text": [
      "estimated time to run total:16.7054349184 minutes\n"
     ]
    }
   ],
   "source": [
    "import gzip\n",
    "import pandas as pd\n",
    "import string\n",
    "import re\n",
    "from time import time\n",
    "\n",
    "t0=time()\n",
    "line_num=0\n",
    "df=pd.DataFrame()\n",
    "with gzip.open('word_time_series.txt.gz', 'r') as f:\n",
    "    for line in f:\n",
    "        line_num+=1\n",
    "        try:\n",
    "            if line_num>1000:\n",
    "                break\n",
    "            data=line.split('\\t')\n",
    "            count=data[0]\n",
    "            mytuple=[x.translate(None, \")(\").strip() for x in re.split(',', data[1], maxsplit=1)]\n",
    "            dt, term=mytuple\n",
    "            #df=df.append({'dt':dt.strip(), 'term':term.strip(), 'count':int(count)}, ignore_index=True)\n",
    "            df=df.append([[dt.strip(), term.strip(), int(count)]], ignore_index=True)\n",
    "        except:\n",
    "            print(\"error on line {}: {}\".format(line_num, line))\n",
    "            continue\n",
    "            \n",
    "t1=time()\n",
    "tot=(t1-t0)*(465738/1000) / 60\n",
    "print(\"estimated time to run total:{} minutes\".format(tot))"
   ]
  },
  {
   "cell_type": "code",
   "execution_count": null,
   "metadata": {
    "collapsed": false
   },
   "outputs": [],
   "source": [
    "df.columns=['dt', 'term', 'count']\n",
    "print(df.shape)\n",
    "df=df.sort(['dt', 'term'])\n",
    "print(df.columns)\n",
    "print(df.head(n=5))"
   ]
  },
  {
   "cell_type": "code",
   "execution_count": null,
   "metadata": {
    "collapsed": false
   },
   "outputs": [],
   "source": [
    "import statsmodels.api as sm\n",
    "import statsmodels.formula.api as smf\n",
    "est = smf.ols(formula='count ~ C(term) + C(term)*dt', data=df).fit()\n",
    "short_summary(est)"
   ]
  },
  {
   "cell_type": "code",
   "execution_count": 52,
   "metadata": {
    "collapsed": false
   },
   "outputs": [
    {
     "name": "stdout",
     "output_type": "stream",
     "text": [
      "Index([u'count', u'dt', u'term'], dtype='object')\n"
     ]
    }
   ],
   "source": [
    "print(df.columns)"
   ]
  },
  {
   "cell_type": "code",
   "execution_count": 20,
   "metadata": {
    "collapsed": false
   },
   "outputs": [
    {
     "name": "stdout",
     "output_type": "stream",
     "text": [
      "(1000, 3)\n",
      "(2000, 1003)\n"
     ]
    }
   ],
   "source": [
    "import statsmodels.formula.api as sm\n",
    "result = sm.ols(formula=\"count ~  + C\", data=df).fit()\n",
    "print(result.params)\n"
   ]
  },
  {
   "cell_type": "code",
   "execution_count": null,
   "metadata": {
    "collapsed": true
   },
   "outputs": [],
   "source": []
  }
 ],
 "metadata": {
  "kernelspec": {
   "display_name": "Python 2",
   "language": "python",
   "name": "python2"
  },
  "language_info": {
   "codemirror_mode": {
    "name": "ipython",
    "version": 2
   },
   "file_extension": ".py",
   "mimetype": "text/x-python",
   "name": "python",
   "nbconvert_exporter": "python",
   "pygments_lexer": "ipython2",
   "version": "2.7.10"
  }
 },
 "nbformat": 4,
 "nbformat_minor": 0
}
